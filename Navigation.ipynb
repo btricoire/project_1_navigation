{
 "cells": [
  {
   "cell_type": "markdown",
   "metadata": {},
   "source": [
    "# Navigation\n",
    "\n",
    "---\n",
    "\n",
    "In this notebook, you will learn how to use the Unity ML-Agents environment for the first project of the [Deep Reinforcement Learning Nanodegree](https://www.udacity.com/course/deep-reinforcement-learning-nanodegree--nd893).\n",
    "\n",
    "### 1. Start the Environment\n",
    "\n",
    "We begin by importing some necessary packages.  If the code cell below returns an error, please revisit the project instructions to double-check that you have installed [Unity ML-Agents](https://github.com/Unity-Technologies/ml-agents/blob/master/docs/Installation.md) and [NumPy](http://www.numpy.org/)."
   ]
  },
  {
   "cell_type": "code",
   "execution_count": 1,
   "metadata": {},
   "outputs": [],
   "source": [
    "from unityagents import UnityEnvironment\n",
    "import numpy as np\n",
    "import matplotlib.pyplot as plt\n",
    "import time\n",
    "from collections import deque\n",
    "from dqn_agent import Agent\n",
    "import torch\n",
    "import json\n",
    "import os.path\n",
    "%matplotlib inline"
   ]
  },
  {
   "cell_type": "markdown",
   "metadata": {},
   "source": [
    "Next, we will start the environment!  **_Before running the code cell below_**, change the `file_name` parameter to match the location of the Unity environment that you downloaded.\n",
    "\n",
    "- **Mac**: `\"path/to/Banana.app\"`\n",
    "- **Windows** (x86): `\"path/to/Banana_Windows_x86/Banana.exe\"`\n",
    "- **Windows** (x86_64): `\"path/to/Banana_Windows_x86_64/Banana.exe\"`\n",
    "- **Linux** (x86): `\"path/to/Banana_Linux/Banana.x86\"`\n",
    "- **Linux** (x86_64): `\"path/to/Banana_Linux/Banana.x86_64\"`\n",
    "- **Linux** (x86, headless): `\"path/to/Banana_Linux_NoVis/Banana.x86\"`\n",
    "- **Linux** (x86_64, headless): `\"path/to/Banana_Linux_NoVis/Banana.x86_64\"`\n",
    "\n",
    "For instance, if you are using a Mac, then you downloaded `Banana.app`.  If this file is in the same folder as the notebook, then the line below should appear as follows:\n",
    "```\n",
    "env = UnityEnvironment(file_name=\"Banana.app\")\n",
    "```"
   ]
  },
  {
   "cell_type": "code",
   "execution_count": 2,
   "metadata": {
    "scrolled": true
   },
   "outputs": [
    {
     "name": "stderr",
     "output_type": "stream",
     "text": [
      "INFO:unityagents:\n",
      "'Academy' started successfully!\n",
      "Unity Academy name: Academy\n",
      "        Number of Brains: 1\n",
      "        Number of External Brains : 1\n",
      "        Lesson number : 0\n",
      "        Reset Parameters :\n",
      "\t\t\n",
      "Unity brain name: BananaBrain\n",
      "        Number of Visual Observations (per agent): 0\n",
      "        Vector Observation space type: continuous\n",
      "        Vector Observation space size (per agent): 37\n",
      "        Number of stacked Vector Observation: 1\n",
      "        Vector Action space type: discrete\n",
      "        Vector Action space size (per agent): 4\n",
      "        Vector Action descriptions: , , , \n"
     ]
    }
   ],
   "source": [
    "env = UnityEnvironment(file_name=\"./Banana_Linux/Banana.x86\")"
   ]
  },
  {
   "cell_type": "markdown",
   "metadata": {},
   "source": [
    "Environments contain **_brains_** which are responsible for deciding the actions of their associated agents. Here we check for the first brain available, and set it as the default brain we will be controlling from Python."
   ]
  },
  {
   "cell_type": "code",
   "execution_count": 3,
   "metadata": {},
   "outputs": [],
   "source": [
    "# get the default brain\n",
    "brain_name = env.brain_names[0]\n",
    "brain = env.brains[brain_name]"
   ]
  },
  {
   "cell_type": "markdown",
   "metadata": {},
   "source": [
    "### 2. Examine the State and Action Spaces\n",
    "\n",
    "The simulation contains a single agent that navigates a large environment.  At each time step, it has four actions at its disposal:\n",
    "- `0` - walk forward \n",
    "- `1` - walk backward\n",
    "- `2` - turn left\n",
    "- `3` - turn right\n",
    "\n",
    "The state space has `37` dimensions and contains the agent's velocity, along with ray-based perception of objects around agent's forward direction.  A reward of `+1` is provided for collecting a yellow banana, and a reward of `-1` is provided for collecting a blue banana. \n",
    "\n",
    "Run the code cell below to print some information about the environment."
   ]
  },
  {
   "cell_type": "code",
   "execution_count": 4,
   "metadata": {
    "scrolled": true
   },
   "outputs": [
    {
     "name": "stdout",
     "output_type": "stream",
     "text": [
      "Number of agents: 1\n",
      "Number of actions: 4\n",
      "States look like: [1.         0.         0.         0.         0.84408134 0.\n",
      " 0.         1.         0.         0.0748472  0.         1.\n",
      " 0.         0.         0.25755    1.         0.         0.\n",
      " 0.         0.74177343 0.         1.         0.         0.\n",
      " 0.25854847 0.         0.         1.         0.         0.09355672\n",
      " 0.         1.         0.         0.         0.31969345 0.\n",
      " 0.        ]\n",
      "States have length: 37\n",
      "States have shape: (37,)\n"
     ]
    }
   ],
   "source": [
    "# reset the environment\n",
    "env_info = env.reset(train_mode=True)[brain_name]\n",
    "\n",
    "# number of agents in the environment\n",
    "print('Number of agents:', len(env_info.agents))\n",
    "\n",
    "# number of actions\n",
    "action_size = brain.vector_action_space_size\n",
    "print('Number of actions:', action_size)\n",
    "\n",
    "# examine the state space \n",
    "state = env_info.vector_observations[0]\n",
    "print('States look like:', state)\n",
    "state_size = len(state)\n",
    "print('States have length:', state_size)\n",
    "print('States have shape:', state.shape)"
   ]
  },
  {
   "cell_type": "markdown",
   "metadata": {},
   "source": [
    "### 3. Take Random Actions in the Environment\n",
    "\n",
    "In the next code cell, you will learn how to use the Python API to control the agent and receive feedback from the environment.\n",
    "\n",
    "Once this cell is executed, you will watch the agent's performance, if it selects an action (uniformly) at random with each time step.  A window should pop up that allows you to observe the agent, as it moves through the environment.  \n",
    "\n",
    "Of course, as part of the project, you'll have to change the code so that the agent is able to use its experience to gradually choose better actions when interacting with the environment!"
   ]
  },
  {
   "cell_type": "code",
   "execution_count": 5,
   "metadata": {},
   "outputs": [
    {
     "name": "stdout",
     "output_type": "stream",
     "text": [
      "Score: 0.0\n"
     ]
    }
   ],
   "source": [
    "env_info = env.reset(train_mode=False)[brain_name] # reset the environment\n",
    "state = env_info.vector_observations[0]            # get the current state\n",
    "score = 0                                          # initialize the score\n",
    "while True:\n",
    "    action = np.random.randint(action_size)        # select an action\n",
    "    env_info = env.step(action)[brain_name]        # send the action to the environment\n",
    "    next_state = env_info.vector_observations[0]   # get the next state\n",
    "    reward = env_info.rewards[0]                   # get the reward\n",
    "    done = env_info.local_done[0]                  # see if episode has finished\n",
    "    score += reward                                # update the score\n",
    "    state = next_state                             # roll over the state to next time step\n",
    "    if done:                                       # exit loop if episode finished\n",
    "        break\n",
    "    \n",
    "print(\"Score: {}\".format(score))"
   ]
  },
  {
   "cell_type": "markdown",
   "metadata": {},
   "source": [
    "When finished, you can close the environment."
   ]
  },
  {
   "cell_type": "code",
   "execution_count": 6,
   "metadata": {},
   "outputs": [],
   "source": [
    "#env.close()"
   ]
  },
  {
   "cell_type": "markdown",
   "metadata": {},
   "source": [
    "### 4. It's Your Turn!\n",
    "\n",
    "Now it's your turn to train your own agent to solve the environment!  When training the environment, set `train_mode=True`, so that the line for resetting the environment looks like the following:\n",
    "```python\n",
    "env_info = env.reset(train_mode=True)[brain_name]\n",
    "```"
   ]
  },
  {
   "cell_type": "markdown",
   "metadata": {},
   "source": [
    "## Run an episode given the specified agent"
   ]
  },
  {
   "cell_type": "code",
   "execution_count": 7,
   "metadata": {},
   "outputs": [],
   "source": [
    "def run_episode(train, agent, eps=0):\n",
    "    \"\"\"\n",
    "    Run an episode\n",
    "    \n",
    "    Params\n",
    "    ======\n",
    "        train (boolean) : specifies if the agent should be trained during the episode\n",
    "        agent (Agent) : the agent to use\n",
    "        eps (float): epsilon for the epsilon greedy action selection\n",
    "    \"\"\"\n",
    "    env_info = env.reset(train_mode=train)[brain_name] # reset the environment\n",
    "    state = env_info.vector_observations[0]  # the state of the environment\n",
    "    score = 0\n",
    "    while  True:\n",
    "        action = agent.act(state, eps)                 # get the action from the agent\n",
    "        env_info = env.step(action)[brain_name]        # send the action to the environment\n",
    "        next_state = env_info.vector_observations[0]   # get the next state\n",
    "        reward = env_info.rewards[0]                   # get the reward\n",
    "        done = env_info.local_done[0]                  # see if episode has finished\n",
    "\n",
    "        agent.step(state, action, reward, next_state, done)\n",
    "\n",
    "        score += reward                                # update the score\n",
    "        state = next_state                             # roll over the state to next time step\n",
    "        if done:\n",
    "            break \n",
    "        if train == False :\n",
    "            time.sleep(0.02) # on my hardware, it goes to fast too clearly see action changes\n",
    "    return score"
   ]
  },
  {
   "cell_type": "markdown",
   "metadata": {},
   "source": [
    "## Train the agent given the specified set of parameters"
   ]
  },
  {
   "cell_type": "code",
   "execution_count": 8,
   "metadata": {},
   "outputs": [],
   "source": [
    "def dqn(parameters, n_episodes=10, save=False):\n",
    "    \n",
    "    \"\"\"Deep Q-Learning.\n",
    "    \n",
    "    Params\n",
    "    ======\n",
    "        n_episodas (int): maximum number of training episodes\n",
    "        eps_end (float): minimum value of epsilon\n",
    "        eps_decay (float): multiplicative factor (per episode) for decreasing epsilon\n",
    "    \"\"\"\n",
    "    lr =5e-4\n",
    "    agent = Agent(\n",
    "        state_size,\n",
    "        action_size,\n",
    "        seed=0,\n",
    "        buffer_size=parameters['buffer_size'],\n",
    "        batch_size=parameters['batch_size'],\n",
    "        gamma=parameters['gamma'],\n",
    "        tau=parameters['tau'],\n",
    "        lr=lr,\n",
    "        update_every=parameters['update_every'],\n",
    "        layers_units=parameters['layers_units']\n",
    "    )\n",
    "    eps_end = 0.01\n",
    "    scores = []                        # list containing scores from each episode\n",
    "    scores_averaged_previous_100 = []\n",
    "    scores_window = deque(maxlen=100)  # last 100 scores\n",
    "    eps = 1.0                    # initialize epsilon\n",
    "    for i_episode in range(1, n_episodes+1):\n",
    "        score = run_episode(True, agent, eps)    # run the epsiode\n",
    "        scores_window.append(score)       # save most recent score\n",
    "        scores.append(score)              # save most recent score\n",
    "        eps = max(eps_end, parameters['eps_decay'] *eps) # decrease epsilon\n",
    "        \n",
    "        print('\\rEpisode {}\\tAverage Score: {:.2f}'.format(i_episode, np.mean(scores_window)), end=\"\")\n",
    "        mean_score = np.mean(scores_window)\n",
    "        if i_episode % 100 == 0:\n",
    "            print('\\rEpisode {}\\tAverage Score: {:.2f}'.format(i_episode, mean_score))\n",
    "            scores_averaged_previous_100.append(mean_score)\n",
    "    if save :\n",
    "        torch.save(agent.qnetwork_local.state_dict(), 'model.pth'.format(i_episode))\n",
    "    return scores, scores_averaged_previous_100\n",
    "\n"
   ]
  },
  {
   "cell_type": "markdown",
   "metadata": {},
   "source": [
    "## Hyper parameters tuning \n",
    "\n",
    "The Deep Q-Network algorithm alongside the experience replay and fixed Q Targets introduces many parameters we can play on to speed up the convergence and the final score of the trained agent.\n",
    "\n",
    "Setting the right values for these parameters is not obvious. On the basis of some guidances from the litterature, we propose the following approach to find a good distribution of hyper parameters : We start with the values from the DQN project that worked fine for the Lunar lander OpenAI Gym's LunarLander environment and that are close to the values proposed in the litterature.\n",
    "\n",
    "Since the training of the agent is time consuming, we chosed the following simple heuristic approach to find a good value for each hyper parameter. For each parameter, we introduce a list of values to test. Among those values, the one we keep is the one that lead to the best average score over the last 100 episodes after 5000 epsiodes of training.\n",
    "\n",
    "The following parameters are adjusted through our naive sequential heuristic.\n",
    "\n",
    "- **eps_decay** : The coefficient applied on the *Epsilon* parameter after each epsiode ( balance exploration and exploitation in Epsilon-greedy action selection),\n",
    "- **buffer_size** : The size of the replay buffer in the context of the *Experience replay*,\n",
    "- **batch_size** : The size of the batch involved in the Q-learning update enhanced using *Experience replay*,\n",
    "- **gamma** : The discount factor involved in the rewards expectation,\n",
    "- **tau** : In the Q targets update from fixed Q target context, defines the weight given to the new parameters for the update.\n",
    "- **update_every** : defines the update rate of the target from the Fixed Q Targets strategy,\n",
    "- **layers_units** : The input of our neural network is an heterogeneous representation of the environment (ray based + velocities). Therefore, we kept a fully connected neural network. This parameter is a list that gives the number of neurons of each hidden layers."
   ]
  },
  {
   "cell_type": "code",
   "execution_count": 9,
   "metadata": {},
   "outputs": [],
   "source": [
    "# The values to test for each parameter\n",
    "hyper_parameters = {\n",
    "        'eps_decay': [0.995, 0.99, 0.999],\n",
    "        'buffer_size':[int(1e5), int(1e6)],\n",
    "        'batch_size':[64, 256],\n",
    "        'gamma':[0.9, 0.99, 0.995],\n",
    "        'tau':[5e-2, 1e-3, 5e-4],\n",
    "        'update_every' : [2, 4, 8],\n",
    "        'layers_units' : [[128, 256, 256, 128], [32, 64, 32], [64, 128, 64],[64, 64], [64, 32, 16, 16]]\n",
    "    }\n",
    "\n",
    "# the default value, from DQN projet of the Deep Reinforcement learning course\n",
    "# applied on Lunar Lander from Open AI Gym\n",
    "default = {\n",
    "        'eps_decay': 0.995,\n",
    "        'buffer_size':int(1e5),\n",
    "        'batch_size':64,\n",
    "        'gamma':0.99,\n",
    "        'tau':1e-3, \n",
    "        'update_every' : 4,\n",
    "        'layers_units' : [64, 64]\n",
    "    }\n",
    "\n",
    "def to_name(parameters) :\n",
    "    \"\"\"\n",
    "    built a user friendly string that describes a particular experiment,\n",
    "    specified by a value distribution for parameters\n",
    "    \"\"\"\n",
    "    return ' '.join('{}={}'.format(name, str(value)) for name, value in parameters.items())\n"
   ]
  },
  {
   "cell_type": "markdown",
   "metadata": {},
   "source": [
    "## Save partial result\n",
    "Our hyper parameters tuning heuristic implies to training 21 times the agent. Since this is time consuming, we save the result after each training to be able to stop and resume our computations when we want without loosing what has already been computed. "
   ]
  },
  {
   "cell_type": "code",
   "execution_count": 10,
   "metadata": {},
   "outputs": [],
   "source": [
    "# load what has already been computed\n",
    "if os.path.exists('hyper_parameters_tuning.json'):\n",
    "    with open('hyper_parameters_tuning.json') as json_file:\n",
    "        results = json.load(json_file)\n",
    "else :\n",
    "    results = {}\n"
   ]
  },
  {
   "cell_type": "markdown",
   "metadata": {},
   "source": [
    "## Evaluate each value for each hyper parameter\n",
    "Train the agent for 5000 iterations and save a json that gives for each experiment the average value over the last 100 iterations, each 100 iterations"
   ]
  },
  {
   "cell_type": "code",
   "execution_count": 11,
   "metadata": {},
   "outputs": [
    {
     "name": "stdout",
     "output_type": "stream",
     "text": [
      "\n",
      "parameter eps_decay, value = 0.995 already tuned\n",
      "\n",
      "parameter eps_decay, value = 0.99 already tuned\n",
      "\n",
      "parameter eps_decay, value = 0.999 already tuned\n",
      "\n",
      "parameter buffer_size, value = 100000 already tuned\n",
      "\n",
      "parameter buffer_size, value = 1000000 already tuned\n",
      "\n",
      "parameter batch_size, value = 64 already tuned\n",
      "\n",
      "parameter batch_size, value = 256 already tuned\n",
      "\n",
      "parameter gamma, value = 0.9 already tuned\n",
      "\n",
      "parameter gamma, value = 0.99 already tuned\n",
      "\n",
      "parameter gamma, value = 0.995 already tuned\n",
      "\n",
      "parameter tau, value = 0.05 already tuned\n",
      "\n",
      "parameter tau, value = 0.001 already tuned\n",
      "\n",
      "parameter tau, value = 0.0005 already tuned\n",
      "\n",
      "parameter update_every, value = 2 already tuned\n",
      "\n",
      "parameter update_every, value = 4 already tuned\n",
      "\n",
      "parameter update_every, value = 8 already tuned\n",
      "\n",
      "parameter layers_units, value = [128, 256, 256, 128] already tuned\n",
      "\n",
      "parameter layers_units, value = [32, 64, 32] already tuned\n",
      "\n",
      "parameter layers_units, value = [64, 128, 64] already tuned\n",
      "\n",
      "parameter layers_units, value = [64, 64] already tuned\n",
      "\n",
      "parameter layers_units, value = [64, 32, 16, 16] already tuned\n"
     ]
    }
   ],
   "source": [
    "# find sequentially the \"best\" value for each parameters after 1000 episodes. \n",
    "# When a parameter is choosen, the others take values from the dqn project\n",
    "\n",
    "for name, parameter in hyper_parameters.items() :\n",
    "    \n",
    "    for value in parameter :\n",
    "        key = '{}_{}'.format(name, str(value))\n",
    "        if not key in results :\n",
    "            print(\"\\n\\nTuning parameter {}, value = {}\".format(name, value))\n",
    "            parameters = default.copy()\n",
    "            parameters[name] = value\n",
    "            scores, scores_averaged_previous_100 = dqn(parameters, 5000)\n",
    "            results[key] = scores_averaged_previous_100\n",
    "            with open('hyper_parameters_tuning.json', 'w') as fp:\n",
    "                json.dump(results, fp)       \n",
    "        else :\n",
    "            print(\"\\nparameter {}, value = {} already tuned\".format(name, value))\n",
    "with open('hyper_parameters_tuning.json', 'w') as fp:\n",
    "    json.dump(results, fp)       "
   ]
  },
  {
   "cell_type": "markdown",
   "metadata": {},
   "source": [
    "Given the results plotted in Notebook **Hyper parameters tuning curves**, we choosed the following distribution of hyper parameters. Note that some values are identical to those of the Lunar Lander project while other changed :  "
   ]
  },
  {
   "cell_type": "code",
   "execution_count": 12,
   "metadata": {},
   "outputs": [],
   "source": [
    "chosen_parameters = {\n",
    "        'eps_decay': 0.99,\n",
    "        'buffer_size':int(1e5),\n",
    "        'batch_size':64,\n",
    "        'gamma':0.99,\n",
    "        'tau':1e-3, \n",
    "        'update_every' : 8,\n",
    "        'layers_units' : [64, 32, 16, 16]\n",
    "    }"
   ]
  },
  {
   "cell_type": "markdown",
   "metadata": {},
   "source": [
    "## Train the model with the chosen parameters"
   ]
  },
  {
   "cell_type": "code",
   "execution_count": 13,
   "metadata": {},
   "outputs": [],
   "source": [
    "if not os.path.exists('model.pth'): \n",
    "    # train only if it has not been done:\n",
    "    scores, scores_averaged_previous_100 = dqn(chosen_parameters, 5000, True)\n",
    "    results = {'scores' : scores, 'scores_averaged_previous_100' : scores_averaged_previous_100 }\n",
    "    with open('final.json', 'w') as fp:\n",
    "        json.dump(results, fp)       "
   ]
  },
  {
   "cell_type": "code",
   "execution_count": 14,
   "metadata": {},
   "outputs": [
    {
     "data": {
      "image/png": "[encoded data removed]",
      "text/plain": [
       "<Figure size 432x288 with 1 Axes>"
      ]
     },
     "metadata": {
      "needs_background": "light"
     },
     "output_type": "display_data"
    }
   ],
   "source": [
    "# load what has already been computed\n",
    "if os.path.exists('final.json'):\n",
    "    with open('final.json') as json_file:\n",
    "        results = json.load(json_file)\n",
    "        \n",
    "# plot the scores\n",
    "scores = results['scores']\n",
    "fig = plt.figure()\n",
    "ax = fig.add_subplot(111)\n",
    "plt.plot(np.arange(len(scores)), scores)\n",
    "plt.ylabel('Score')\n",
    "plt.xlabel('Episode #')\n",
    "plt.show()"
   ]
  },
  {
   "cell_type": "markdown",
   "metadata": {},
   "source": [
    "## Let's see how our agent behave !"
   ]
  },
  {
   "cell_type": "code",
   "execution_count": 17,
   "metadata": {},
   "outputs": [
    {
     "data": {
      "text/plain": [
       "21.0"
      ]
     },
     "execution_count": 17,
     "metadata": {},
     "output_type": "execute_result"
    }
   ],
   "source": [
    "agent = Agent(\n",
    "        state_size,\n",
    "        action_size,\n",
    "        seed=0,\n",
    "        buffer_size=chosen_parameters['buffer_size'],\n",
    "        batch_size=chosen_parameters['batch_size'],\n",
    "        gamma=chosen_parameters['gamma'],\n",
    "        tau=chosen_parameters['tau'],\n",
    "        lr=5e-4,\n",
    "        update_every=chosen_parameters['update_every'],\n",
    "        layers_units=chosen_parameters['layers_units']\n",
    "    )\n",
    "agent.qnetwork_local.load_state_dict(torch.load('model.pth'))\n",
    "run_episode(False, agent)"
   ]
  },
  {
   "cell_type": "code",
   "execution_count": 18,
   "metadata": {},
   "outputs": [],
   "source": [
    "env.close()"
   ]
  }
 ],
 "metadata": {
  "kernelspec": {
   "display_name": "Python 3",
   "language": "python",
   "name": "python3"
  },
  "language_info": {
   "codemirror_mode": {
    "name": "ipython",
    "version": 3
   },
   "file_extension": ".py",
   "mimetype": "text/x-python",
   "name": "python",
   "nbconvert_exporter": "python",
   "pygments_lexer": "ipython3",
   "version": "3.6.7"
  }
 },
 "nbformat": 4,
 "nbformat_minor": 2
}
